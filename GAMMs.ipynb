{
    "cells": [
        {
            "cell_type": "markdown",
            "metadata": {},
            "source": [
                "<style type=\"text/css\">\n",
                "\n",
                "body{ /* Normal  */\n",
                "      font-family: \"Times New Roman\", Times, serif;\n",
                "}\n",
                "h1 { /* Header 1 */\n",
                "  color: Black;\n",
                "}\n",
                "h3 { /* Header 2 */\n",
                "  color: MidnightBlue;\n",
                "}\n",
                "h4 { /* Header 3 */\n",
                "  color: CornflowerBlue;\n",
                "  }\n",
                "<\/style>\n",
                "---\n"
            ]
        },
        {
            "cell_type": "code",
            "execution_count": null,
            "metadata": {},
            "outputs": [],
            "source": [
                "options(repos=c(CRAN=\"https://cran.gis-lab.info/\"))\n",
                "\n"
            ]
        },
        {
            "cell_type": "markdown",
            "metadata": {},
            "source": "\n"
        },
        {
            "cell_type": "code",
            "execution_count": null,
            "metadata": {},
            "outputs": [],
            "source": [
                "install.packages(\"tidyverse\")\n",
                "library(tidyverse)\n"
            ]
        },
        {
            "cell_type": "markdown",
            "metadata": {},
            "source": [
                "# PART I\n",
                "\n",
                "In this session, we will learn how to analyze *time series data*. to exemplify this, we will be analyzing pupillometry data.\n",
                "\n",
                "\n",
                "First of all, what *is* time series data? \n",
                "\n",
                "Time course refers to the evolution of a measurement *over time*. *Time series*\n",
                "refers to data that form a sequence ordered in time. Therefore, you do a time course experiment and you analyze time series. In our case, pupillometry is considered time series data because data on pupil dilation are collected continuously as the experiment unfolds such that we can obtain a dynamic, continuous measurement of pupil size over a period of time.\n",
                "\n",
                "The method used to analyze time series data that we will learn in today's session is called Generalized Linear Mixed Models (GAMMs). A GAMM can be seen as a regression model which is able to model *non-linear patterns* in the data.\n",
                "\n",
                "For example, we below that a regression line is unable to capture the non-linear nature of the F2 trajectory.\n",
                "\n",
                "<br>\n"
            ]
        },
        {
            "cell_type": "code",
            "execution_count": null,
            "metadata": {},
            "outputs": [],
            "source": [
                "knitr::include_graphics(c(\"linear.jpeg\", \"nonlinear.jpeg\"))\n",
                "\n"
            ]
        },
        {
            "cell_type": "markdown",
            "metadata": {},
            "source": [
                "<br>\n",
                "\n",
                "Let us refer to the slopes and intercepts of linear regression models as *parametric term*s. GAMMs differ from traditional linear regression models by allowing so-called *smooth terms* alongside parametric terms. Smooth terms are extremely flexible, that is how they can account for non-linear patterns.\n",
                "\n",
                "Similar to linear mixed effects models, GAMMs incorporate random effects. These random effects can be random intercepts and random slopes. However, GAMMs also offer a third option: *random smooths.*\n",
                "\n",
                "Random smooths are similar to random slopes, but they are more flexible than the latter: while random slopes can only capture by-group variation in linear effects, random smooths can also deal with by-group variation in non-linear effects.\n",
                "\n",
                "<br>\n"
            ]
        },
        {
            "cell_type": "code",
            "execution_count": null,
            "metadata": {},
            "outputs": [],
            "source": [
                "knitr::include_graphics(\"random gamms.jpeg\")\n",
                "\n"
            ]
        },
        {
            "cell_type": "markdown",
            "metadata": {},
            "source": [
                "<br>\n",
                "\n",
                "### The experiment: The Spanish Subjunctive\n",
                "\n",
                "In Spanish, mood selection is primarily lexically conditioned, which entails that a number of verbs (*governors*) govern use of the subjunctive and indicative variants. A subset of these governors are *non-variable*, meaning that they select the subjunctive 100% pf the times (e.g., *querer*). This experiment investigates heritage speakers of Spanish sensitivity to this lexical constraint.\n",
                "\n",
                "Lexical Conditioning Experiment\n",
                "\n",
                "**1.\tCondition Non-variable Subjunctive (NVS)** consists of a non-variable governor (in bold) followed by a subordinate verb in the subjunctive (in italics).\n",
                "\n",
                "**2.\tCondition Non-variable Indicative (NVI)** is comprised of a non-variable governor (in bold) followed by a subordinate verb in the indicative (in italics).\n",
                "\n",
                "<br>\n"
            ]
        },
        {
            "cell_type": "code",
            "execution_count": null,
            "metadata": {},
            "outputs": [],
            "source": [
                "knitr::include_graphics(\"dissertation.jpeg\")\n",
                "\n"
            ]
        },
        {
            "cell_type": "markdown",
            "metadata": {},
            "source": [
                "<br>\n",
                "\n",
                "**Hypothesis**\n",
                "Condition NVI will elicit higher pupillary dilation in participants if they are sensitive to the lexical constraint that non-variable governors select the subjunctive categorically.\n",
                "\n",
                "<br>\n",
                "\n",
                "### How to design a GAMMs model\n",
                "\n",
                "The main packages we will be using for GAMMs are `mgcv` to design models and `itsadug` to plot results.\n"
            ]
        },
        {
            "cell_type": "code",
            "execution_count": null,
            "metadata": {},
            "outputs": [],
            "source": [
                "install.packages(\"mgcv\", repos = \"http://cran.us.r-project.org\")\n",
                "library(mgcv)\n"
            ]
        },
        {
            "cell_type": "markdown",
            "metadata": {},
            "source": [
                "\n",
                "After we load in the the data, we must make sure that *all* categorical variables are factors, otherwise the model won't run. Finally, we design our model. \n"
            ]
        },
        {
            "cell_type": "code",
            "execution_count": null,
            "metadata": {},
            "outputs": [],
            "source": [
                "data <- read_csv(\"/Users/priscilalopez-beltran/Documents/Statistics workshop/data_pup.csv\")  \n",
                "\n"
            ]
        },
        {
            "cell_type": "markdown",
            "metadata": {},
            "source": "\n"
        },
        {
            "cell_type": "code",
            "execution_count": null,
            "metadata": {},
            "outputs": [],
            "source": [
                "# Create factors\n",
                "data$participant <- as.factor(data$participant)\n",
                "data$session <- as.factor(data$session)\n",
                "data$condition <- as.factor(data$condition)\n",
                "data$item <- as.factor(data$item)\n",
                "data$regularity <- as.factor(data$regularity)\n"
            ]
        },
        {
            "cell_type": "markdown",
            "metadata": {},
            "source": "\n"
        },
        {
            "cell_type": "code",
            "execution_count": null,
            "metadata": {},
            "outputs": [],
            "source": [
                "# Subset data frames:\n",
                "target_NV <- droplevels(data[(data$condition == \"NVS\") | (data$condition == \"NVI\"), ])\n"
            ]
        },
        {
            "cell_type": "markdown",
            "metadata": {},
            "source": [
                "We will use the `bam()` function to create our model.\n",
                "\n"
            ]
        },
        {
            "cell_type": "code",
            "execution_count": null,
            "metadata": {},
            "outputs": [],
            "source": [
                "NV <- bam(corrected_pupil_size ~ condition # fixed effects\n",
                "             + s(bin, by = condition, k = 20) # smooth for time by condition\n",
                "             + s(gaze_x, gaze_y) # smooth for gaze position\n",
                "             + s(bin, participant, bs = 'fs', m = 1, k = 10) # factor smooth for time by participant\n",
                "             + s(bin, item, bs = 'fs', m = 1, k = 10) # factor smooth for time by item\n",
                "             , family = \"scat\" # t-distribution, as assumed in regression\n",
                "             , data = target_NV # data\n",
                "             , method = \"fREML\" # smoothing parameter estimation method fast REML\n",
                "             , discrete = TRUE) # in Mike's words \"set to discrete if you want it to converge in your lifetime\"\n",
                "\n",
                "summary(NV)\n"
            ]
        },
        {
            "cell_type": "markdown",
            "metadata": {},
            "source": [
                "Let's dissect this scary output\n",
                "\n",
                "#### Parametric coefficients\n",
                "\n",
                "These are our fixed effects. As usual in regression, the intercept is the value of the dependent variable when all numerical predictors are equal to 0 and nominal variables are at their reference level. In  this case, the intercept represents the value of the DV for condition Non-Variable Indicative (NVI). We observe that for condition NVS, the pupillary dilation is -7.13 ties smaller than for NVI, which supports our hypothesis.\n",
                "\n",
                "#### Random smooths\n",
                "\n",
                "**1. edf**\n",
                "\n",
                "The edf value is indicative of the amount of non-linearity of the smooth. If the edf value for a certain smooth is (close to) 1, this means that the pattern is (close to) linear, while a value greater than 1 indicates that the pattern is more complex (i.e. non-linear).\n",
                "\n",
                "**2. Ref.df and F**\n",
                "\n",
                "The Ref.df value is the reference number of degrees of freedom used for hypothesis testing (on the basis of the associated F-value)\n",
                "\n",
                "**3. p-value**\n",
                "\n",
                "The p-value associated with each smooth indicates if the smooth is significantly different from 0. In this case, all variables are highly significantly different fro 0. If we focus on the first two lines of coefficients, which are those of interest to us, we see that the p-value for NVI is much higher than for NVS, indicating a higher difference from 0.\n",
                "\n",
                "#### Goodness-of-fit measures\n",
                "\n",
                "The adjusted r2 represents the amount of variance explained by the regression and the deviance explained is a generalization of r2 and will be very similar to the actual r2. Bpth ofn them re pretty good in this model. Consider that with time series data, especially when we try to account for as much variability as possible, is is *very common* to see deviance explained values that are quite low. There is nothing inherently wrong with this, it is just a b-product of the type of data and models were are using.\n",
                "\n",
                "<br>\n",
                "\n",
                "While this may seem all easy peasy, significant p-values in the model don't really tell us much. We only know that both conditions are significantly different from zero,a nd we can kind of infer which one is more different, but in order to actually assess significance, we will need to visualize the results.\n",
                "\n",
                "First, we visualize the smooths for NVI and NVS. On the Y axis we have pupillary dilation and on the X axis we have time. We see that NVI elicited higher dilation that NVS starting around time bin 5 (~100 ms into the target period).\n",
                "\n",
                "<br>\n"
            ]
        },
        {
            "cell_type": "code",
            "execution_count": null,
            "metadata": {},
            "outputs": [],
            "source": [
                "install.packages(\"itsadug\")\n",
                "library(itsadug)\n"
            ]
        },
        {
            "cell_type": "markdown",
            "metadata": {},
            "source": "\n"
        },
        {
            "cell_type": "code",
            "execution_count": null,
            "metadata": {},
            "outputs": [],
            "source": [
                "plot_smooth(NV, view = \"bin\", plot_all = c(\"condition\"), \n",
                "            rm.ranef = TRUE, rug = FALSE, shade = FALSE, se = 0, lwd = 8,\n",
                "            main = \"Pupillary Response Smooths based on Fitted Values \\nNon-variable Governors\",\n",
                "            xlab = \"Time Bin (20ms per bin)\",\n",
                "            ylab = \"Corrected Pupil Size\",\n",
                "            hide.label = T,\n",
                "            family = \"serif\")\n",
                "            #+ theme( legend.position = c(.95, .95), legend.justification = c(\"right\"))\n"
            ]
        },
        {
            "cell_type": "markdown",
            "metadata": {},
            "source": [
                "<br>\n",
                "\n",
                "Next, we visualize the difference between smooths for NVI and NVS. The blocks of time marked my red dashed lines indicate when during the target period there was a significant difference between NVI and NVS. Because we are subtracting NVI from NVS and NVI elicited higer pupilary dilation, this difference is positive.\n",
                "\n",
                "<br>\n"
            ]
        },
        {
            "cell_type": "code",
            "execution_count": null,
            "metadata": {},
            "outputs": [],
            "source": [
                "plot_diff(NV, view = \"bin\", comp = list(condition = c(\"NVI\", \"NVS\")), rm.ranef = TRUE)\n",
                "\n"
            ]
        },
        {
            "cell_type": "markdown",
            "metadata": {},
            "source": [
                "<br>\n",
                "\n",
                "In all, by interpreting the model and the graphs produced, we can affirm that there was a significant differences between conditions which suggests that participants were sensitive to the lexical constraints of non-variable governors for mood selection.\n",
                "\n",
                "<br>\n",
                "\n",
                "If only the story would end here...\n",
                "\n",
                "<br>\n",
                "\n",
                "### Autocorrelation: AR(1) models\n",
                "\n",
                "Autocorrelation in residuals is  a *big* problem in time series data because data points are *not independent* of one another, this means that the relationship between variances changes in a systematic way, rather than being random. We often see autocorrelation plots that look like the one below, with very high lag (autocorrelation) values. Autocorrelation is dangerous because it inflates Type I mistakes.\n"
            ]
        },
        {
            "cell_type": "code",
            "execution_count": null,
            "metadata": {},
            "outputs": [],
            "source": [
                "knitr::include_graphics(\"lag.jpeg\")\n",
                "\n"
            ]
        },
        {
            "cell_type": "markdown",
            "metadata": {},
            "source": [
                "<br>\n",
                "\n",
                "In order to address this problem, we must prepare prepare our data to include a *first order autoregressive structure or AR(1).* \n"
            ]
        },
        {
            "cell_type": "code",
            "execution_count": null,
            "metadata": {},
            "outputs": [],
            "source": [
                "# create a column called start.event\n",
                "target_NV$start.event <- NULL\n",
                "\n",
                "# Put everything in order in the time series data\n",
                "target_NV <- droplevels(target_NV[order(target_NV$participant, target_NV$session, target_NV$trial, target_NV$bin),]) \n",
                "\n",
                "# Mark the start event of each trial (this will sigornagize the data)\n",
                "target_NV <- start_event(target_NV, column = \"bin\", event = c(\"participant\", \"session\", \"trial\"), order = FALSE) \n",
                "\n",
                "# Put everything BACK into the original order.\n",
                "target_NV <- droplevels(target_NV[order(target_NV$participant, target_NV$session, target_NV$trial, target_NV$bin),]) \n",
                "\n",
                "# Obtain value or rho (autocorrelation statistic) for the original model\n",
                "rho0 <- start_value_rho(NV)\n"
            ]
        },
        {
            "cell_type": "markdown",
            "metadata": {},
            "source": [
                "<br>\n",
                "\n",
                "Now we are ready to create our AR(1) model:\n"
            ]
        },
        {
            "cell_type": "code",
            "execution_count": null,
            "metadata": {},
            "outputs": [],
            "source": [
                "NV_AR1 <- bam(corrected_pupil_size ~ condition\n",
                "             + s(bin, by = condition, k = 20) \n",
                "             + s(gaze_x, gaze_y) \n",
                "             + s(bin, participant, bs = 'fs', m = 1, k = 10) \n",
                "             + s(bin, item, bs = 'fs', m = 1, k = 10) \n",
                "             , family = \"scat\" \n",
                "             , data = target_NV \n",
                "             , method = \"fREML\" \n",
                "             , discrete = TRUE\n",
                "             , AR.start = start.event\n",
                "             , rho = 0.99)\n"
            ]
        },
        {
            "cell_type": "markdown",
            "metadata": {},
            "source": [
                "<br>\n",
                "\n",
                "By virtue of having included an AR(1) model we see that the autocorrelation in our NV_AR1 model is *very* low!\n"
            ]
        },
        {
            "cell_type": "code",
            "execution_count": null,
            "metadata": {},
            "outputs": [],
            "source": [
                "acf_resid(NV_AR1, split_pred = c(\"participant\", \"item\"))\n",
                "\n"
            ]
        },
        {
            "cell_type": "markdown",
            "metadata": {},
            "source": [
                "\n",
                "Let's see if our results have changed. They haven't changed much but now we can have much more confidence in them.\n"
            ]
        },
        {
            "cell_type": "code",
            "execution_count": null,
            "metadata": {},
            "outputs": [],
            "source": [
                "summary(NV_AR1)\n",
                "\n"
            ]
        },
        {
            "cell_type": "markdown",
            "metadata": {},
            "source": [
                "# PART 2\n",
                "\n",
                "As was already mentioned, assessing significance is pretty difficult in GAMMs. Besides visualization, another possibility for significance testing is building a model with *binary difference smooths.* These model the difference between the two original smooths. Subsequently, we can assess if this difference smooth is found to be significant from the model itself, besides any further testing.\n",
                "\n",
                "#### Binary difference smooths\n",
                "\n",
                "To fit this new model, we first have to create a new, binary (i.e. dummy), variable which is equal to 0 for one level of the nominal variable and 1 for the other level. Below, we create the variable *IsInd* (is indicative) where the reference value 0 is subjunctive and the alternative value 1 is indicative\n"
            ]
        },
        {
            "cell_type": "code",
            "execution_count": null,
            "metadata": {},
            "outputs": [],
            "source": [
                "target_NV$IsInd <- (target_NV$condition == \"NVI\")*1\n",
                "\n"
            ]
        },
        {
            "cell_type": "markdown",
            "metadata": {},
            "source": [
                "<br>\n",
                "\n",
                "Then we create an AR(1) model,\n"
            ]
        },
        {
            "cell_type": "code",
            "execution_count": null,
            "metadata": {},
            "outputs": [],
            "source": [
                "NV_Bin_AR1 <- bam(corrected_pupil_size ~\n",
                "                             + s(bin, k = 20) # ref. level = subjunctive\n",
                "                             + s(bin, by = IsInd, k = 20) # indicative - subjunctive\n",
                "                             + s(gaze_x, gaze_y)\n",
                "                             + s(bin, participant, bs = 'fs', m = 1, k = 10)\n",
                "                             + s(bin, item, bs = 'fs', m = 1, k = 10)\n",
                "                             , family = \"scat\"\n",
                "                             , data = target_NV\n",
                "                             , method = \"fREML\"\n",
                "                             , discrete = TRUE\n",
                "                             , AR.start = start.event\n",
                "                             , rho = 0.99)\n",
                "summary(NV_Bin_AR1)\n"
            ]
        },
        {
            "cell_type": "markdown",
            "metadata": {},
            "source": [
                "#### Smooth terms\n",
                "\n",
                "Here we need to pay attention to the second line 2, which models the difference between the non-linear patterns of NVI and NVS. We see that it indicates there is a significant difference between conditions.\n",
                "\n",
                "#### Goodness-of-fit measures\n",
                "\n",
                "Notice that with this more appropriate model, our deviance explained value has dropped drastically.\n",
                "\n",
                "**IMPORTANT** \n",
                "Because is in this model there is *one* curve fitted to the difference between smooths,its visualization is a bit tricky. As of now, the practice is not fit a regular model first and use that visualization to support the binary prediction model.\n",
                "\n",
                "### Interactions\n",
                "\n",
                "Interactions are the trickiest part of designing a GAMM. Well first cover interactions with categorical variables and then we'll move on to continuous variables.\n",
                "\n",
                "#### Interactions with categorical variables\n",
                "\n",
                "The process will be fairly similar to the one above: we will first create a regular model in order to better visualize our results, and then we'll create a model with a binary difference smooth.\n",
                "\n",
                "Here, we will learn how to create GAMM using *\"Frankenvariables\"*. A Frankenvariable is a crossover/intraction between two variables, such  that we obtain all possible permutations. For example if we have:\n",
                "\n",
                "* Condition\n",
                "  + NVS\n",
                "  + NVI\n",
                "\n",
                "* Regularity\n",
                "  + Regular\n",
                "  + Irregular\n",
                "\n",
                "This crossover yields four levels:\n",
                "\n",
                "* Frankenvariable Regularity:\n",
                "  + NVS Regular\n",
                "  + NVS Irregular\n",
                "  + NVI Regular\n",
                "  + NVI Irregular\n",
                "\n",
                "This way we can examine the interaction between Condition and Regularity. Here, according to the extant literature, our prediction would be that irregular subordinate verbs would be less costly to process in th subjunctive.\n"
            ]
        },
        {
            "cell_type": "code",
            "execution_count": null,
            "metadata": {},
            "outputs": [],
            "source": [
                "target_NV$CondReg <- as.factor(interaction(target_NV$condition, target_NV$regularity))\n",
                "\n"
            ]
        },
        {
            "cell_type": "markdown",
            "metadata": {},
            "source": [
                "\n",
                "\n"
            ]
        },
        {
            "cell_type": "code",
            "execution_count": null,
            "metadata": {},
            "outputs": [],
            "source": [
                "NV_Reg_AR1 <- bam(corrected_pupil_size ~ CondReg\n",
                "                          + s(bin, by = CondReg, k = 20)\n",
                "                          + s(gaze_x, gaze_y)\n",
                "                          + s(bin, participant, bs = 'fs', m = 1, k = 10)\n",
                "                          + s(bin, item, bs = 'fs', m = 1, k = 10)\n",
                "                          , family = \"scat\"\n",
                "                          , data = target_NV\n",
                "                          , method = \"fREML\"\n",
                "                          , discrete = TRUE\n",
                "                          , AR.start = start.event\n",
                "                          , rho = 0.99)\n",
                "\n",
                "summary(NV_Reg_AR1)\n"
            ]
        },
        {
            "cell_type": "markdown",
            "metadata": {},
            "source": [
                "<br>\n",
                "\n",
                "Let's plot the smooths:\n"
            ]
        },
        {
            "cell_type": "code",
            "execution_count": null,
            "metadata": {},
            "outputs": [],
            "source": [
                "plot_smooth(NV_Reg_AR1, view = \"bin\", plot_all = c(\"CondReg\"), \n",
                "            rm.ranef = TRUE, rug = FALSE, shade = FALSE, se = 0, lwd = 8,\n",
                "            main = \"Pupillary Response Smooths based on Fitted Values \\nNon-variable Governors\",\n",
                "            xlab = \"Time Bin (20ms per bin)\",\n",
                "            ylab = \"Corrected Pupil Size\",\n",
                "            hide.label = T,\n",
                "            family = \"serif\")\n"
            ]
        },
        {
            "cell_type": "markdown",
            "metadata": {},
            "source": [
                "<br>\n",
                "\n",
                "And now the difference smooths:\n"
            ]
        },
        {
            "cell_type": "code",
            "execution_count": null,
            "metadata": {},
            "outputs": [],
            "source": [
                "plot_diff(NV_Reg_AR1, view = \"bin\", comp = list(CondReg = c(\"NVI.regular\", \"NVI.irregular\")), rm.ranef = TRUE)\n",
                "plot_diff(NV_Reg_AR1 , view = \"bin\", comp = list(CondReg = c(\"NVS.regular\", \"NVS.irregular\")), rm.ranef = TRUE)\n"
            ]
        },
        {
            "cell_type": "markdown",
            "metadata": {},
            "source": [
                "<br>\n",
                "\n",
                "Once we have the model with the Frankenvariable, it is time to create a **binary difference smooth model**. We will actually be creating *two* models with different reference levels so that we can explore all levels of the interaction we are interested in.\n"
            ]
        },
        {
            "cell_type": "code",
            "execution_count": null,
            "metadata": {},
            "outputs": [],
            "source": [
                "# Create binary variables by Regularity\n",
                "target_NV$IsInd <- (target_NV$condition == \"NVI\")*1 # Ref level subjunctive\n",
                "target_NV$IsReg <- (target_NV$regularity == \"regular\")*1 # Ref level irregular\n",
                "target_NV$IsIndReg <- (target_NV$condition == \"NVI\" & target_NV$regularity == \"regular\")*1 # NVS Reg - NVS Irreg\n"
            ]
        },
        {
            "cell_type": "markdown",
            "metadata": {},
            "source": [
                " \n",
                "<br>\n",
                "\n",
                "First, we create a model with *subjunctive irregular as reference level*:\n"
            ]
        },
        {
            "cell_type": "code",
            "execution_count": null,
            "metadata": {},
            "outputs": [],
            "source": [
                "NV_BinReg_AR1 <- bam(corrected_pupil_size ~\n",
                "                                + s(bin, k = 20)\n",
                "                                + s(bin, by = IsInd, k = 20)\n",
                "                                + s(bin, by = IsReg, k = 20)\n",
                "                                + s(bin, by = IsIndReg, k = 20)\n",
                "                                + s(gaze_x, gaze_y)\n",
                "                                + s(bin, participant, bs = 'fs', m = 1, k = 10)\n",
                "                                + s(bin, item, bs = 'fs', m = 1, k = 10)\n",
                "                                , family = \"scat\"\n",
                "                                , data = target_NV\n",
                "                                , method = \"fREML\"\n",
                "                                , discrete = TRUE\n",
                "                                , AR.start = start.event\n",
                "                                , rho = 0.99)\n",
                "\n",
                "summary(NV_BinReg_AR1)\n"
            ]
        },
        {
            "cell_type": "markdown",
            "metadata": {},
            "source": [
                "<br>\n",
                "\n",
                "Second, we create a model with *indicative regular as reference level*:\n"
            ]
        },
        {
            "cell_type": "code",
            "execution_count": null,
            "metadata": {},
            "outputs": [],
            "source": [
                "target_NV$IsSub <- (target_NV$condition == \"NVS\")*1 # indicative as reference level\n",
                "target_NV$IsIrreg <- (target_NV$regularity == \"irregular\")*1 # regular as reference level\n",
                "target_NV$IsSubIrreg <- (target_NV$condition == \"NVS\" & target_NV$regularity == \"irregular\")*1 # NVI Irreg - NVI Reg\n"
            ]
        },
        {
            "cell_type": "markdown",
            "metadata": {},
            "source": "\n"
        },
        {
            "cell_type": "code",
            "execution_count": null,
            "metadata": {},
            "outputs": [],
            "source": [
                "NV_BinRegAR1_Ind <- bam(corrected_pupil_size ~\n",
                "                                + s(bin, k = 20)\n",
                "                                + s(bin, by = IsSub, k = 20)\n",
                "                                + s(bin, by = IsIrreg, k = 20)\n",
                "                                + s(bin, by = IsSubIrreg, k = 20)\n",
                "                                + s(gaze_x, gaze_y)\n",
                "                                + s(bin, participant, bs = 'fs', m = 1, k = 10)\n",
                "                                + s(bin, item, bs = 'fs', m = 1, k = 10)\n",
                "                                , family = \"scat\"\n",
                "                                , data = target_NV\n",
                "                                , method = \"fREML\"\n",
                "                                , discrete = TRUE\n",
                "                                , AR.start = start.event\n",
                "                                , rho = 0.99)\n",
                "\n",
                "summary(NV_BinRegAR1_Ind)\n"
            ]
        },
        {
            "cell_type": "markdown",
            "metadata": {},
            "source": [
                "#### Interactions with continuous variables\n",
                " \n",
                " When fitting a model to examine an interaction with a continuous variable we need tensor product smooths, rather than binary difference smooths. For instance, explore the effects of profienciency on condition in GAMMs, the former need to be modeled as an interaction with *time*, given that time series data is being analyzed. \n",
                " \n",
                "Thus, the resulting non-linear interaction accounts for changes in pupil size caused by **proficiency on condition over time.**\n"
            ]
        },
        {
            "cell_type": "code",
            "execution_count": null,
            "metadata": {},
            "outputs": [],
            "source": [
                "NV_Prof_BPN <- bam(corrected_pupil_size ~ condition\n",
                "             + te(bin, BPN_Sp, by = condition)\n",
                "             + s(gaze_x, gaze_y)\n",
                "             + s(bin, participant, bs = 'fs', m = 1, k = 10)\n",
                "             + s(bin, item, bs = 'fs', m = 1, k = 10)\n",
                "             , family = \"scat\"\n",
                "             , data = target_NV\n",
                "             , method = \"fREML\"\n",
                "             , discrete = TRUE\n",
                "             , AR.start = start.event\n",
                "             , rho = 0.99)\n",
                "\n",
                "summary(NV_Prof_BPN)\n"
            ]
        },
        {
            "cell_type": "markdown",
            "metadata": {},
            "source": [
                "#### Visualization\n",
                "In the case of interactions with continuous variables, visualization is essential to understand the results because it is the only method used to determine significance.\n",
                "\n",
                "To visualize a two-dimensional pattern such as the effect of proficiency on condition over time, **contour plots** based on the model’s predictions have to be plotted. \n",
                "\n",
                "Here, the color bands represents the range of values of the dependent variable, in this case the difference in pupillary response between conditions (i.e., NIV minus NVS), the closer to red, the greater the difference. \n",
                "\n",
                "The highlighted areas in the plot indicate where there was a significant effect of the independent variable (y-axis) on the dependent variable, and the x-axis shows the time course of the effect. \n",
                "\n",
                "In addition, to further interpret the results observed, one-dimensional difference smooths can also be plotted in order to assess the magnitude, duration and time-course of the effects.\n",
                "\n",
                "<br>\n",
                "\n",
                "First, the contour plot:\n"
            ]
        },
        {
            "cell_type": "code",
            "execution_count": null,
            "metadata": {},
            "outputs": [],
            "source": [
                "plot_diff2(NV_Prof_BPN, view = c(\"bin\", \"BPN_Sp\"),\n",
                "           comp= list(condition = c(\"NVI\", \"NVS\")),\n",
                "           rm.ranef = T,\n",
                "           show.diff = T,\n",
                "           hide.label = T,\n",
                "           main = \"Difference between NVI minus NVS\",\n",
                "           xlab = \"Time Bin (20ms per bin)\",\n",
                "           ylab = \"BPN Reaction Times (ms)\")\n"
            ]
        },
        {
            "cell_type": "markdown",
            "metadata": {},
            "source": [
                "<br>\n",
                "\n",
                "Then, the difference smooths:\n"
            ]
        },
        {
            "cell_type": "code",
            "execution_count": null,
            "metadata": {},
            "outputs": [],
            "source": [
                "par(mfcol = c(1, 2))\n",
                "plot_diff(NV_Prof_BPN, view = \"bin\", \n",
                "          cond= list(BPN_Sp = 900),\n",
                "          comp = list(condition = c(\"NVI\", \"NVS\")),\n",
                "          rm.ranef = TRUE,\n",
                "          show.diff = T,\n",
                "          hide.label = T,\n",
                "          main = \"Difference between NVI minus NVS \\nHigh Profciency\",\n",
                "          xlab = \"Time Bin (20ms per bin)\",\n",
                "          ylab = \"Difference in corrected pupil size\")\n",
                "\n",
                "plot_diff(NV_Prof_BPN, view = \"bin\", \n",
                "          cond= list(BPN_Sp = 1500),\n",
                "          comp = list(condition = c(\"NVI\", \"NVS\")),\n",
                "          rm.ranef = TRUE,\n",
                "          show.diff = T,\n",
                "          hide.label = T,\n",
                "          main = \"Difference between NVI minus NVS \\nLow Proficiency\",\n",
                "          xlab = \"Time Bin (20ms per bin)\",\n",
                "          ylab = \"Difference in corrected pupil size\")\n"
            ]
        },
        {
            "cell_type": "markdown",
            "metadata": {},
            "source": [
                "#### Resources\n",
                "\n",
                "* Readings\n",
                "  +  Sóskuthy, M. (2017). Generalised additive mixed models for dynamic analysis in linguistics: a practical introduction\n",
                "  + Wieling (2018) Analyzing dynamic phonetic data using generalized additive mixed modeling: A tutorial focusing on articulatory differences between L1 and L2 speakers of English\n",
                "  + Schmidtke (2018) Pupillometry linguistic research: an introduction and review for L2 researchers\n",
                "  + Sirois & Brisson (2015) Pupillometry\n",
                "  \n"
            ]
        }
    ],
    "metadata": {
        "anaconda-cloud": "",
        "kernelspec": {
            "display_name": "R",
            "langauge": "R",
            "name": "ir"
        },
        "language_info": {
            "codemirror_mode": "r",
            "file_extension": ".r",
            "mimetype": "text/x-r-source",
            "name": "R",
            "pygments_lexer": "r",
            "version": "3.4.1"
        }
    },
    "nbformat": 4,
    "nbformat_minor": 1
}
