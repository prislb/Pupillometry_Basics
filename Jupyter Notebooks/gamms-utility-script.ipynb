{
 "cells": [
  {
   "cell_type": "code",
   "execution_count": 1,
   "id": "c8a0c47b",
   "metadata": {
    "_execution_state": "idle",
    "_uuid": "051d70d956493feee0c6d64651c6a088724dca2a",
    "execution": {
     "iopub.execute_input": "2022-03-26T18:49:00.604099Z",
     "iopub.status.busy": "2022-03-26T18:49:00.601512Z",
     "iopub.status.idle": "2022-03-26T18:49:08.644215Z",
     "shell.execute_reply": "2022-03-26T18:49:08.642326Z"
    },
    "papermill": {
     "duration": 8.068124,
     "end_time": "2022-03-26T18:49:08.644428",
     "exception": false,
     "start_time": "2022-03-26T18:49:00.576304",
     "status": "completed"
    },
    "tags": []
   },
   "outputs": [],
   "source": [
    "# Read data\n",
    "data <- read.csv(\"../input/pupillometry-sample/data_pup.csv\")"
   ]
  },
  {
   "cell_type": "code",
   "execution_count": 2,
   "id": "11860697",
   "metadata": {
    "execution": {
     "iopub.execute_input": "2022-03-26T18:49:08.726272Z",
     "iopub.status.busy": "2022-03-26T18:49:08.690465Z",
     "iopub.status.idle": "2022-03-26T18:49:09.028762Z",
     "shell.execute_reply": "2022-03-26T18:49:09.027516Z"
    },
    "papermill": {
     "duration": 0.363471,
     "end_time": "2022-03-26T18:49:09.028950",
     "exception": false,
     "start_time": "2022-03-26T18:49:08.665479",
     "status": "completed"
    },
    "tags": []
   },
   "outputs": [],
   "source": [
    "# Subset data\n",
    "target_NV <- droplevels(data[(data$condition == \"NVS\") | (data$condition == \"NVI\"), ])"
   ]
  },
  {
   "cell_type": "code",
   "execution_count": 3,
   "id": "eef0a802",
   "metadata": {
    "_kg_hide-output": true,
    "execution": {
     "iopub.execute_input": "2022-03-26T18:49:09.077438Z",
     "iopub.status.busy": "2022-03-26T18:49:09.075224Z",
     "iopub.status.idle": "2022-03-26T18:49:11.556833Z",
     "shell.execute_reply": "2022-03-26T18:49:11.555302Z"
    },
    "papermill": {
     "duration": 2.507159,
     "end_time": "2022-03-26T18:49:11.556992",
     "exception": false,
     "start_time": "2022-03-26T18:49:09.049833",
     "status": "completed"
    },
    "tags": []
   },
   "outputs": [
    {
     "name": "stderr",
     "output_type": "stream",
     "text": [
      "Loading required package: nlme\n",
      "\n",
      "This is mgcv 1.8-35. For overview type 'help(\"mgcv-package\")'.\n",
      "\n",
      "── \u001b[1mAttaching packages\u001b[22m ─────────────────────────────────────── tidyverse 1.3.1 ──\n",
      "\n",
      "\u001b[32m✔\u001b[39m \u001b[34mggplot2\u001b[39m 3.3.5     \u001b[32m✔\u001b[39m \u001b[34mpurrr  \u001b[39m 0.3.4\n",
      "\u001b[32m✔\u001b[39m \u001b[34mtibble \u001b[39m 3.1.5     \u001b[32m✔\u001b[39m \u001b[34mdplyr  \u001b[39m 1.0.7\n",
      "\u001b[32m✔\u001b[39m \u001b[34mtidyr  \u001b[39m 1.1.4     \u001b[32m✔\u001b[39m \u001b[34mstringr\u001b[39m 1.4.0\n",
      "\u001b[32m✔\u001b[39m \u001b[34mreadr  \u001b[39m 2.0.2     \u001b[32m✔\u001b[39m \u001b[34mforcats\u001b[39m 0.5.1\n",
      "\n",
      "── \u001b[1mConflicts\u001b[22m ────────────────────────────────────────── tidyverse_conflicts() ──\n",
      "\u001b[31m✖\u001b[39m \u001b[34mdplyr\u001b[39m::\u001b[32mcollapse()\u001b[39m masks \u001b[34mnlme\u001b[39m::collapse()\n",
      "\u001b[31m✖\u001b[39m \u001b[34mdplyr\u001b[39m::\u001b[32mfilter()\u001b[39m   masks \u001b[34mstats\u001b[39m::filter()\n",
      "\u001b[31m✖\u001b[39m \u001b[34mdplyr\u001b[39m::\u001b[32mlag()\u001b[39m      masks \u001b[34mstats\u001b[39m::lag()\n",
      "\n"
     ]
    }
   ],
   "source": [
    "# Libraries\n",
    "library(mgcv)\n",
    "library(tidyverse)"
   ]
  },
  {
   "cell_type": "code",
   "execution_count": 4,
   "id": "a9ecbc22",
   "metadata": {
    "execution": {
     "iopub.execute_input": "2022-03-26T18:49:11.619265Z",
     "iopub.status.busy": "2022-03-26T18:49:11.616925Z",
     "iopub.status.idle": "2022-03-26T18:49:11.667953Z",
     "shell.execute_reply": "2022-03-26T18:49:11.666346Z"
    },
    "papermill": {
     "duration": 0.081936,
     "end_time": "2022-03-26T18:49:11.668163",
     "exception": false,
     "start_time": "2022-03-26T18:49:11.586227",
     "status": "completed"
    },
    "tags": []
   },
   "outputs": [],
   "source": [
    "# Prep data for model\n",
    "target_NV$participant <- as.factor(target_NV$participant)\n",
    "target_NV$session <- as.factor(target_NV$session)\n",
    "target_NV$condition <- as.factor(target_NV$condition)\n",
    "target_NV$item <- as.factor(target_NV$item)\n",
    "target_NV$regularity <- as.factor(target_NV$regularity)"
   ]
  },
  {
   "cell_type": "code",
   "execution_count": 5,
   "id": "d0ed6c01",
   "metadata": {
    "execution": {
     "iopub.execute_input": "2022-03-26T18:49:11.722377Z",
     "iopub.status.busy": "2022-03-26T18:49:11.720806Z",
     "iopub.status.idle": "2022-03-26T18:52:33.876087Z",
     "shell.execute_reply": "2022-03-26T18:52:33.874653Z"
    },
    "papermill": {
     "duration": 202.18399,
     "end_time": "2022-03-26T18:52:33.876364",
     "exception": false,
     "start_time": "2022-03-26T18:49:11.692374",
     "status": "completed"
    },
    "tags": []
   },
   "outputs": [],
   "source": [
    "# Create model\n",
    "model1 <- bam(corrected_pupil_size ~ condition \n",
    "             + s(bin, by = condition, k = 20)\n",
    "             + s(gaze_x, gaze_y) \n",
    "             + s(bin, participant, bs = 'fs', m = 1, k = 10) \n",
    "             + s(bin, item, bs = 'fs', m = 1, k = 10)\n",
    "             , family = \"scat\"\n",
    "             , data = target_NV\n",
    "             , method = \"fREML\"\n",
    "             , discrete = TRUE)"
   ]
  },
  {
   "cell_type": "code",
   "execution_count": 6,
   "id": "2f70a7b3",
   "metadata": {
    "execution": {
     "iopub.execute_input": "2022-03-26T18:52:33.935451Z",
     "iopub.status.busy": "2022-03-26T18:52:33.933875Z",
     "iopub.status.idle": "2022-03-26T18:52:37.743016Z",
     "shell.execute_reply": "2022-03-26T18:52:37.741666Z"
    },
    "papermill": {
     "duration": 3.837561,
     "end_time": "2022-03-26T18:52:37.743179",
     "exception": false,
     "start_time": "2022-03-26T18:52:33.905618",
     "status": "completed"
    },
    "tags": []
   },
   "outputs": [],
   "source": [
    "# Save model\n",
    "saveRDS(model1, \"model1.rds\")\n",
    "my_model <- readRDS(\"model1.rds\")"
   ]
  }
 ],
 "metadata": {
  "kernelspec": {
   "display_name": "R",
   "language": "R",
   "name": "ir"
  },
  "language_info": {
   "codemirror_mode": "r",
   "file_extension": ".r",
   "mimetype": "text/x-r-source",
   "name": "R",
   "pygments_lexer": "r",
   "version": "4.0.5"
  },
  "papermill": {
   "default_parameters": {},
   "duration": 220.621738,
   "end_time": "2022-03-26T18:52:37.878619",
   "environment_variables": {},
   "exception": null,
   "input_path": "__notebook__.ipynb",
   "output_path": "__notebook__.ipynb",
   "parameters": {},
   "start_time": "2022-03-26T18:48:57.256881",
   "version": "2.3.3"
  }
 },
 "nbformat": 4,
 "nbformat_minor": 5
}
